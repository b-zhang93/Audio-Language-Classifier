{
 "cells": [
  {
   "cell_type": "code",
   "execution_count": 9,
   "metadata": {},
   "outputs": [],
   "source": [
    "import librosa                    \n",
    "import librosa.display\n",
    "import os\n",
    "import matplotlib.pyplot as plt\n",
    "import numpy as np\n",
    "from re import findall"
   ]
  },
  {
   "cell_type": "code",
   "execution_count": 6,
   "metadata": {},
   "outputs": [],
   "source": [
    "# set up the parameters for conversion to mel spectrogram (should I include these into the function or class I am going to create to generate spectrograms?)\n",
    "n_fft = 2048\n",
    "hop_length = 512\n",
    "n_mels = 64\n",
    "f_min = 20\n",
    "f_max = 8000\n",
    "sample_rate = 16000"
   ]
  },
  {
   "cell_type": "code",
   "execution_count": 4,
   "metadata": {
    "scrolled": true
   },
   "outputs": [],
   "source": [
    "# Create a function to convert wav files to images of melspectrograms in a given folder\n",
    "def create_melspec(fold, train=9000, test=1000):\n",
    "    '''\n",
    "    Function to create spectrograms for all .wav files under a gven language folder\n",
    "    \n",
    "    Inputs:\n",
    "    fold = the wav files folder location RELATIVE to the currently working directory \n",
    "    train = the number of training samples to generate\n",
    "    test = the number of test samples to generate\n",
    "    \n",
    "    Output:\n",
    "    A spectrogram image for each .wav file under a folder: 'spectrograms' and respective subfolders for each language\n",
    "    \n",
    "    Requirements:\n",
    "    - folder should only contain .wav files\n",
    "    - if you used the bash script to download and extract the data, this should be automatically set up correctly\n",
    "    \n",
    "    Example:\n",
    "    create_melspec(fold='en_wav', train=9000, test=1000)\n",
    "        > returns: <train/test>/<language>/ <image of melspectrogram>.png ... for every wav file in 'en_wav' with a train/test split of 0.9/0.1\n",
    "    '''\n",
    "    \n",
    "    print(f'Creating melspectrograms in {fold}')\n",
    "    \n",
    "    # get list of files under the given folder\n",
    "    wav_files = os.listdir(path=fold) \n",
    "    \n",
    "    # creates subdirectories for the output of melspectrogram images (train/test split)\n",
    "    if 'en' in fold:\n",
    "        spectrogram_path_train = f'train/{fold.replace(fold, \"English\")}'\n",
    "        spectrogram_path_test = f'test/{fold.replace(fold, \"English\")}'\n",
    "    elif 'fr' in fold:\n",
    "        spectrogram_path_train = f'train/{fold.replace(fold, \"French\")}'\n",
    "        pectrogram_path_test = f'test/{fold.replace(fold, \"French\")}'\n",
    "    elif 'es' in fold:\n",
    "        spectrogram_path_train = f'train/{fold.replace(fold, \"Spanish\")}'\n",
    "        pectrogram_path_test = f'test/{fold.replace(fold, \"Spanish\")}'\n",
    "    elif 'de' in fold:\n",
    "        spectrogram_path_train = f'train/{fold.replace(fold, \"German\")}'\n",
    "        pectrogram_path_test = f'test/{fold.replace(fold, \"German\")}'\n",
    "    ### you can keep adding to this line for all languages you choose to include ###\n",
    "    \n",
    "    # create the path for the spectrograms if it doesn't exist already\n",
    "    if os.path.isdir(spectrogram_path_train):\n",
    "        pass\n",
    "    else:\n",
    "        os.makedirs(spectrogram_path_train)\n",
    "        \n",
    "    # do the same for test\n",
    "    if os.path.isdir(spectrogram_path_test):\n",
    "        pass\n",
    "    else:\n",
    "        os.makedirs(spectrogram_path_test)\n",
    "    \n",
    "    # convert wav to melspectrograms and saves the image\n",
    "    counter = 0\n",
    "    for audio_file in wav_files:\n",
    "        clip, sample_rate = librosa.load(path=f'{fold}/{audio_file}')\n",
    "        duration = len(clip)\n",
    "\n",
    "        if duration >= 76000:\n",
    "            clip = clip[16000:16000+60000]\n",
    "        else:\n",
    "            clip = clip[:60000]\n",
    "            \n",
    "        # initialize our plot for the melspectrogram    \n",
    "        fig = plt.figure(figsize=[0.75,0.75])\n",
    "        ax = fig.add_subplot(111)\n",
    "        ax.axes.get_xaxis().set_visible(False)\n",
    "        ax.axes.get_yaxis().set_visible(False)\n",
    "        ax.set_frame_on(False)\n",
    "        \n",
    "        # create the melspectrogram as a plot\n",
    "        mel_spec = librosa.feature.melspectrogram(clip, n_fft=n_fft, hop_length=hop_length, n_mels = n_mels,\n",
    "                                          sr=sample_rate, power=1.0, fmin=f_min, fmax=f_max)\n",
    "        librosa.display.specshow(librosa.amplitude_to_db(mel_spec, ref=np.max), fmax=f_max, sr=sample_rate)\n",
    "        \n",
    "        # extract the speaker from filename and rename with autoincrement key\n",
    "        speaker = findall(r'(?<=wav_).*?[._-]', audio_file)\n",
    "        new_name = audio_file.replace(audio_file, f'{speaker[0]}{counter}.png')\n",
    "        \n",
    "        # decide where to store the files (train or test)\n",
    "        if counter >= train:\n",
    "            filename  = f'{spectrogram_path_test}/{new_name}'\n",
    "        else:\n",
    "            filename  = f'{spectrogram_path_train}/{new_name}'\n",
    "        \n",
    "        # save the output image\n",
    "        plt.savefig(filename, dpi=400, bbox_inches='tight',pad_inches=0)\n",
    "        plt.close('all')\n",
    "        \n",
    "        counter+=1\n",
    "        \n",
    "        # cap the max number of data for each class to have a balanced distribution\n",
    "        if counter >= (train+test):\n",
    "            break\n"
   ]
  },
  {
   "cell_type": "code",
   "execution_count": 23,
   "metadata": {},
   "outputs": [
    {
     "name": "stdout",
     "output_type": "stream",
     "text": [
      "Processing spectrograms in en_wav\n",
      "Processing spectrograms in fr_wav\n",
      "Processing spectrograms in es_wav\n",
      "Processing spectrograms in de_wav\n"
     ]
    }
   ],
   "source": [
    "# create our spectrograms\n",
    "lang_folders = ['en_wav','fr_wav','es_wav','de_wav']\n",
    "\n",
    "for i in lang_folders:\n",
    "    create_melspec(i, MAX=6500)"
   ]
  }
 ],
 "metadata": {
  "kernelspec": {
   "display_name": "pytorch1",
   "language": "python",
   "name": "pytorch1"
  },
  "language_info": {
   "codemirror_mode": {
    "name": "ipython",
    "version": 3
   },
   "file_extension": ".py",
   "mimetype": "text/x-python",
   "name": "python",
   "nbconvert_exporter": "python",
   "pygments_lexer": "ipython3",
   "version": "3.8.5"
  }
 },
 "nbformat": 4,
 "nbformat_minor": 4
}
