{
 "cells": [
  {
   "cell_type": "code",
   "execution_count": 22,
   "metadata": {},
   "outputs": [],
   "source": [
    "import librosa                    \n",
    "import librosa.display\n",
    "import os\n",
    "import matplotlib.pyplot as plt\n",
    "import numpy as np\n",
    "import re\n",
    "from re import findall"
   ]
  },
  {
   "cell_type": "code",
   "execution_count": 37,
   "metadata": {
    "scrolled": true
   },
   "outputs": [],
   "source": [
    "# Create a function to convert wav files to images of melspectrograms in a given folder\n",
    "def create_melspec(fold, train=8000, test=2000, n_fft = 2048, hop_length = 512, n_mels = 64, f_min = 20, f_max = 8000, sample_rate = 16000):\n",
    "    '''\n",
    "    Function to create mel-scaled spectrograms for all .wav files under a given language folder.\n",
    "    Mel-scaled spectrograms (melspectrograms) are spectrograms with frequency converted to the mel-scale (a non-linear transformation)\n",
    "    \n",
    "    Inputs:\n",
    "    fold = the wav files folder location RELATIVE to the currently working directory \n",
    "    train = the number of training samples to generate\n",
    "    test = the number of test samples to generate\n",
    "    \n",
    "    technical inputs:\n",
    "    n_fft = 2048            # number of frames for the fast fornier transformation\n",
    "    hop_length = 512        # window (hop length) of frames to analyse at a time\n",
    "    n_mels = 64             # the number of mel filters to apply\n",
    "    f_min = 20              # minimum frequency\n",
    "    f_max = 8000            # max frequency\n",
    "    sample_rate = 16000     # rate per second the time is audio is sampled. 16000 ~== \n",
    "    \n",
    "    Output:\n",
    "    A spectrogram image for each .wav file under a folder: 'spectrograms' and respective subfolders for each language\n",
    "    \n",
    "    Requirements:\n",
    "    - folder should only contain .wav files\n",
    "    - if you used the bash script to download and extract the data, this should be automatically set up correctly\n",
    "    \n",
    "    Example:\n",
    "    create_melspec(fold='en_wav', train=9000, test=1000)\n",
    "        > returns: <train/test>/<language>/ <image of melspectrogram>.png ... for every wav file in 'en_wav' with a train/test split\n",
    "    '''\n",
    "    print(f'Creating melspectrograms in {fold}')\n",
    "    \n",
    "    # get list of files under the given folder\n",
    "    wav_files = os.listdir(path=fold) \n",
    "    \n",
    "    # creates subdirectories for the output of melspectrogram images (train/test split)\n",
    "    # NOTE: you will need to manually add more for additional languages you choose to include\n",
    "    if 'en' in fold:\n",
    "        spectrogram_path_train = \"data/train/English\"\n",
    "        spectrogram_path_test = \"data/test/English\"\n",
    "    elif 'fr' in fold:\n",
    "        spectrogram_path_train = \"data/train/French\"\n",
    "        spectrogram_path_test = \"data/test/French\"\n",
    "    elif 'es' in fold:\n",
    "        spectrogram_path_train = \"data/train/Spanish\"\n",
    "        spectrogram_path_test = \"data/test/Spanish\"\n",
    "    elif 'de' in fold:\n",
    "        spectrogram_path_train = \"data/train/German\"\n",
    "        spectrogram_path_test = \"data/test/German\"\n",
    "    elif 'it' in fold:\n",
    "        spectrogram_path_train = \"data/train/Italian\"\n",
    "        spectrogram_path_test = \"data/test/Italian\"      \n",
    "    ### you can keep adding to this line for all languages you choose to include ###\n",
    "    \n",
    "    # create the path for the spectrograms if it doesn't exist already\n",
    "    if os.path.isdir(spectrogram_path_train):\n",
    "        pass\n",
    "    else:\n",
    "        os.makedirs(spectrogram_path_train)\n",
    "        \n",
    "    # do the same for test\n",
    "    if os.path.isdir(spectrogram_path_test):\n",
    "        pass\n",
    "    else:\n",
    "        os.makedirs(spectrogram_path_test)\n",
    "    \n",
    "    # convert wav to melspectrograms and saves the image\n",
    "    counter = 0\n",
    "    for audio_file in wav_files:\n",
    "        clip, sample_rate = librosa.load(path=f'{fold}/{audio_file}')\n",
    "        duration = len(clip)\n",
    "\n",
    "        if duration >= 76000:\n",
    "            clip = clip[16000:16000+60000]\n",
    "        else:\n",
    "            clip = clip[:60000]\n",
    "            \n",
    "        # initialize our plot for the melspectrogram    \n",
    "        fig = plt.figure(figsize=[0.75,0.75])\n",
    "        ax = fig.add_subplot(111)\n",
    "        ax.axes.get_xaxis().set_visible(False)\n",
    "        ax.axes.get_yaxis().set_visible(False)\n",
    "        ax.set_frame_on(False)\n",
    "        \n",
    "        # create the melspectrogram as a plot\n",
    "        mel_spec = librosa.feature.melspectrogram(clip, n_fft=n_fft, hop_length=hop_length, n_mels = n_mels,\n",
    "                                          sr=sample_rate, power=1.0, fmin=f_min, fmax=f_max)\n",
    "        librosa.display.specshow(librosa.amplitude_to_db(mel_spec, ref=np.max), fmax=f_max, sr=sample_rate)\n",
    "        \n",
    "        # extract the speaker from filename and rename with autoincrement key\n",
    "        speaker = findall(r'(?<=wav_).*?[._-]', audio_file)\n",
    "        new_name = audio_file.replace(audio_file, f'{speaker[0]}{counter}.png')\n",
    "        \n",
    "        # decide where to store the files (train or test)\n",
    "        if counter >= train:\n",
    "            filename  = f'{spectrogram_path_test}/{new_name}'\n",
    "        else:\n",
    "            filename  = f'{spectrogram_path_train}/{new_name}'\n",
    "        \n",
    "        # save the output image\n",
    "        plt.savefig(filename, dpi=400, bbox_inches='tight',pad_inches=0)\n",
    "        plt.close('all')\n",
    "        \n",
    "        counter+=1\n",
    "        \n",
    "        # cap the max number of data for each class to have a balanced distribution\n",
    "        if counter >= (train+test):\n",
    "            print(\"Finished. Outputs are in the 'data' folder.\")\n",
    "            break\n"
   ]
  },
  {
   "cell_type": "code",
   "execution_count": 38,
   "metadata": {},
   "outputs": [
    {
     "name": "stdout",
     "output_type": "stream",
     "text": [
      "The wav files are stored in the folders: ['de_wav', 'en_wav', 'es_wav', 'fr_wav', 'it_wav']\n"
     ]
    }
   ],
   "source": [
    "# return a list of all the language_wav folders in the working directory\n",
    "all_folders = os.listdir(path=\"./\")\n",
    "r = re.compile(\".*_wav\")\n",
    "lang_folders = list(filter(r.match, all_folders))\n",
    "\n",
    "# check the list of folders\n",
    "print(f\"The wav files are stored in the folders: {lang_folders}\")"
   ]
  },
  {
   "cell_type": "code",
   "execution_count": 39,
   "metadata": {},
   "outputs": [
    {
     "name": "stdout",
     "output_type": "stream",
     "text": [
      "Creating melspectrograms in de_wav\n",
      "Creating melspectrograms in en_wav\n",
      "Creating melspectrograms in es_wav\n",
      "Creating melspectrograms in fr_wav\n",
      "Creating melspectrograms in it_wav\n"
     ]
    }
   ],
   "source": [
    "# Generate spectrograms for each language folder\n",
    "# NOTE: Since the lowest number of data points is italian with 10500 files, we will distribute the train/test based on that using amount with a 75/25 split\n",
    "for i in lang_folders:\n",
    "    create_melspec(fold=i, train=7875, test=2625)"
   ]
  }
 ],
 "metadata": {
  "kernelspec": {
   "display_name": "pytorch1",
   "language": "python",
   "name": "pytorch1"
  },
  "language_info": {
   "codemirror_mode": {
    "name": "ipython",
    "version": 3
   },
   "file_extension": ".py",
   "mimetype": "text/x-python",
   "name": "python",
   "nbconvert_exporter": "python",
   "pygments_lexer": "ipython3",
   "version": "3.8.5"
  }
 },
 "nbformat": 4,
 "nbformat_minor": 4
}
